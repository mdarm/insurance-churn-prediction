{
  "nbformat": 4,
  "nbformat_minor": 0,
  "metadata": {
    "colab": {
      "provenance": []
    },
    "kernelspec": {
      "name": "python3",
      "display_name": "Python 3"
    },
    "language_info": {
      "name": "python"
    }
  },
  "cells": [
    {
      "cell_type": "markdown",
      "source": [
        "## Churn insurance dataset\n",
        "\n",
        "Click to run on colab (if you are not already there): [![Open In Colab](https://colab.research.google.com/assets/colab-badge.svg)](https://colab.research.google.com/drive/1Vg3894R2ljhG8zMaf24RUn6mLryXfncS?usp=sharing)\n",
        "\n",
        "\n",
        "The goal of this notebook is to build an intuition about the provided dataset for Oracle's churn challenge.\n"
      ],
      "metadata": {
        "id": "Xb3NWgYnBMYw"
      }
    },
    {
      "cell_type": "code",
      "source": [
        "!gdown --id 10K5-CAAZb5wIf-WkCTgQo0Xi_xdDFC_h\n",
        "!curl -L 'https://docs.google.com/spreadsheets/d/11C3RLM1vhL8idoCPwhK6ALRxCFShXesg/export?format=xlsx' -o data-dictionary.xlsx"
      ],
      "metadata": {
        "colab": {
          "base_uri": "https://localhost:8080/"
        },
        "id": "uibUIcqe_L7F",
        "outputId": "6017cf11-fb2a-40f9-91de-513dca8a84cf"
      },
      "execution_count": 1,
      "outputs": [
        {
          "output_type": "stream",
          "name": "stdout",
          "text": [
            "/usr/local/lib/python3.10/dist-packages/gdown/cli.py:138: FutureWarning: Option `--id` was deprecated in version 4.3.1 and will be removed in 5.0. You don't need to pass it anymore to use a file ID.\n",
            "  warnings.warn(\n",
            "Downloading...\n",
            "From (original): https://drive.google.com/uc?id=10K5-CAAZb5wIf-WkCTgQo0Xi_xdDFC_h\n",
            "From (redirected): https://drive.google.com/uc?id=10K5-CAAZb5wIf-WkCTgQo0Xi_xdDFC_h&confirm=t&uuid=ac434833-5aca-44fd-b8a1-46b238fce104\n",
            "To: /content/ml_churn_final_data.xlsx\n",
            "100% 199M/199M [00:04<00:00, 45.9MB/s]\n",
            "  % Total    % Received % Xferd  Average Speed   Time    Time     Time  Current\n",
            "                                 Dload  Upload   Total   Spent    Left  Speed\n",
            "100   375    0   375    0     0    953      0 --:--:-- --:--:-- --:--:--   951\n",
            "100 11645    0 11645    0     0  16655      0 --:--:-- --:--:-- --:--:-- 16655\n"
          ]
        }
      ]
    },
    {
      "cell_type": "code",
      "source": [
        "!sudo apt update -y\n",
        "!sudo apt install gnumeric\n",
        "!ssconvert ml_churn_final_data.xlsx dataset.csv"
      ],
      "metadata": {
        "colab": {
          "base_uri": "https://localhost:8080/"
        },
        "id": "D3cvlLrEG0dU",
        "outputId": "20f194d9-3226-4f01-e6a3-95e350eafc44"
      },
      "execution_count": 2,
      "outputs": [
        {
          "output_type": "stream",
          "name": "stdout",
          "text": [
            "\u001b[33m\r0% [Working]\u001b[0m\r            \rGet:1 https://cloud.r-project.org/bin/linux/ubuntu jammy-cran40/ InRelease [3,626 B]\n",
            "\u001b[33m\r0% [Connecting to archive.ubuntu.com (185.125.190.36)] [Waiting for headers] [1\u001b[0m\u001b[33m\r0% [Waiting for headers] [Waiting for headers] [Connecting to ppa.launchpadcont\u001b[0m\r                                                                               \rHit:2 https://developer.download.nvidia.com/compute/cuda/repos/ubuntu2204/x86_64  InRelease\n",
            "\u001b[33m\r0% [Waiting for headers] [Waiting for headers] [Connecting to ppa.launchpadcont\u001b[0m\r                                                                               \rGet:3 http://security.ubuntu.com/ubuntu jammy-security InRelease [110 kB]\n",
            "Hit:4 http://archive.ubuntu.com/ubuntu jammy InRelease\n",
            "Get:5 http://archive.ubuntu.com/ubuntu jammy-updates InRelease [119 kB]\n",
            "Hit:6 https://ppa.launchpadcontent.net/c2d4u.team/c2d4u4.0+/ubuntu jammy InRelease\n",
            "Hit:7 https://ppa.launchpadcontent.net/deadsnakes/ppa/ubuntu jammy InRelease\n",
            "Hit:8 http://archive.ubuntu.com/ubuntu jammy-backports InRelease\n",
            "Hit:9 https://ppa.launchpadcontent.net/graphics-drivers/ppa/ubuntu jammy InRelease\n",
            "Hit:10 https://ppa.launchpadcontent.net/ubuntugis/ppa/ubuntu jammy InRelease\n",
            "Get:11 http://security.ubuntu.com/ubuntu jammy-security/universe amd64 Packages [1,070 kB]\n",
            "Get:12 http://archive.ubuntu.com/ubuntu jammy-updates/universe amd64 Packages [1,343 kB]\n",
            "Get:13 http://security.ubuntu.com/ubuntu jammy-security/main amd64 Packages [1,463 kB]\n",
            "Get:14 http://security.ubuntu.com/ubuntu jammy-security/restricted amd64 Packages [1,796 kB]\n",
            "Get:15 http://archive.ubuntu.com/ubuntu jammy-updates/main amd64 Packages [1,742 kB]\n",
            "Get:16 http://archive.ubuntu.com/ubuntu jammy-updates/restricted amd64 Packages [1,834 kB]\n",
            "Get:17 http://archive.ubuntu.com/ubuntu jammy-updates/multiverse amd64 Packages [50.4 kB]\n",
            "Fetched 9,532 kB in 4s (2,475 kB/s)\n",
            "Reading package lists... Done\n",
            "Building dependency tree... Done\n",
            "Reading state information... Done\n",
            "43 packages can be upgraded. Run 'apt list --upgradable' to see them.\n",
            "Reading package lists... Done\n",
            "Building dependency tree... Done\n",
            "Reading state information... Done\n",
            "gnumeric is already the newest version (1.12.51-1).\n",
            "The following package was automatically installed and is no longer required:\n",
            "  libfuse2\n",
            "Use 'sudo apt autoremove' to remove it.\n",
            "0 upgraded, 0 newly installed, 0 to remove and 43 not upgraded.\n"
          ]
        }
      ]
    },
    {
      "cell_type": "code",
      "source": [
        "import numpy as np\n",
        "import pandas as pd # too slow here\n",
        "import polars as pl\n",
        "import matplotlib.pyplot as plt\n",
        "import seaborn as sns\n",
        "\n",
        "df = pd.read_csv(\"dataset.csv\")"
      ],
      "metadata": {
        "colab": {
          "base_uri": "https://localhost:8080/"
        },
        "id": "xmNfs2xbCdfa",
        "outputId": "297f2908-5109-4933-fed2-2f55b4f61df9"
      },
      "execution_count": 4,
      "outputs": [
        {
          "output_type": "stream",
          "name": "stderr",
          "text": [
            "<ipython-input-4-550daa99609c>:7: DtypeWarning: Columns (44) have mixed types. Specify dtype option on import or set low_memory=False.\n",
            "  df = pd.read_csv(\"dataset.csv\")\n"
          ]
        }
      ]
    },
    {
      "cell_type": "markdown",
      "source": [
        "### Preliminaries"
      ],
      "metadata": {
        "id": "hkVRox2EBLsd"
      }
    },
    {
      "cell_type": "code",
      "source": [
        "print(df.head())"
      ],
      "metadata": {
        "id": "bYOZKlG_D0oO",
        "colab": {
          "base_uri": "https://localhost:8080/"
        },
        "outputId": "2c64bc16-972c-4412-a84b-54bcb3c7643f"
      },
      "execution_count": 5,
      "outputs": [
        {
          "output_type": "stream",
          "name": "stdout",
          "text": [
            "    MHNET       SYMB  SYMB_START    SYMB_END PAYMENT_END RENEWAL_SYMB  \\\n",
            "0  202010  103734856  2020/10/12  2021/10/12  2021/01/12   2021/01/12   \n",
            "1  202010  103731263  2020/10/10  2021/10/10  2021/04/10   2021/04/10   \n",
            "2  202010  103731762  2020/10/09  2021/10/09  2021/04/09   2021/04/09   \n",
            "3  202010  103737388  2020/10/17  2021/10/17  2021/04/17   2021/04/17   \n",
            "4  202010  103739373  2020/10/19  2021/10/19  2021/01/19   2021/01/19   \n",
            "\n",
            "   CUSTOMER CUST_BIRTH_DATE  GENDER  CUST_ZIP_CODE  ... HAS_RETURNED  \\\n",
            "0   3585539      1977/01/04     1.0          19001  ...            1   \n",
            "1   3580938      1947/04/17     1.0          74100  ...            1   \n",
            "2   3581530      1984/11/23     2.0          45500  ...            1   \n",
            "3   2647509      1954/05/13     1.0          71409  ...            1   \n",
            "4   3590638      1952/04/07     1.0          12461  ...            1   \n",
            "\n",
            "  NEW_PREMIUM_PRICE NUM_COMPLAINTS IS_RENEWAL LOSS_RATIO  ASFAL_AMOUNT  \\\n",
            "0             39.18              0          1        0.0           0.0   \n",
            "1             59.11              0          0        0.0           0.0   \n",
            "2             93.75              0          0        0.0           0.0   \n",
            "3             67.39              0          0        0.0           0.0   \n",
            "4             41.53              0          1        0.0           0.0   \n",
            "\n",
            "   PAID_AMOUNT  PENDING_AMOUNT  DISCOUNT_AMOUNT  POLICY_STATUS  \n",
            "0          0.0             0.0             1.44              1  \n",
            "1          0.0             0.0             3.18              1  \n",
            "2          0.0             0.0            20.58              1  \n",
            "3          0.0             0.0            14.97              1  \n",
            "4          0.0             0.0             0.00              1  \n",
            "\n",
            "[5 rows x 58 columns]\n"
          ]
        }
      ]
    },
    {
      "cell_type": "code",
      "source": [
        "print(df.info())"
      ],
      "metadata": {
        "id": "0TR3RdlxEu9Y",
        "colab": {
          "base_uri": "https://localhost:8080/"
        },
        "outputId": "f378de34-92cf-4247-d4b2-8cff5f36fee4"
      },
      "execution_count": 7,
      "outputs": [
        {
          "output_type": "stream",
          "name": "stdout",
          "text": [
            "<class 'pandas.core.frame.DataFrame'>\n",
            "RangeIndex: 631479 entries, 0 to 631478\n",
            "Data columns (total 58 columns):\n",
            " #   Column                     Non-Null Count   Dtype  \n",
            "---  ------                     --------------   -----  \n",
            " 0   MHNET                      631479 non-null  int64  \n",
            " 1   SYMB                       631479 non-null  int64  \n",
            " 2   SYMB_START                 631479 non-null  object \n",
            " 3   SYMB_END                   631479 non-null  object \n",
            " 4   PAYMENT_END                631479 non-null  object \n",
            " 5   RENEWAL_SYMB               631479 non-null  object \n",
            " 6   CUSTOMER                   631479 non-null  int64  \n",
            " 7   CUST_BIRTH_DATE            532462 non-null  object \n",
            " 8   GENDER                     631146 non-null  float64\n",
            " 9   CUST_ZIP_CODE              631479 non-null  int64  \n",
            " 10  AGENT_CD                   631479 non-null  object \n",
            " 11  CDIE_AGENT_CD              631479 non-null  object \n",
            " 12  CGD_AGENT_CD               631479 non-null  object \n",
            " 13  CEMP_AGENT_CD              631479 non-null  object \n",
            " 14  CEP3_AGENT_CD              631479 non-null  object \n",
            " 15  TRPLHR                     11747 non-null   float64\n",
            " 16  SYMB_DURATION              631479 non-null  int64  \n",
            " 17  NUM_ACTIVE_SYMB            631479 non-null  int64  \n",
            " 18  NUM_ACCIDENTS_INVOLVED     631479 non-null  int64  \n",
            " 19  NUM_ACCIDENTS_RESP         631479 non-null  int64  \n",
            " 20  NUM_ACCIDENTS_RESP_FR      631479 non-null  int64  \n",
            " 21  NUM_ACCIDENTS_RESP_NOT_FR  631479 non-null  int64  \n",
            " 22  NUM_ACCIDENTS_NOT_RESP     631479 non-null  int64  \n",
            " 23  LOYALTY_PROGRAM            631479 non-null  int64  \n",
            " 24  NUM_VEHICLES               631479 non-null  int64  \n",
            " 25  CAR_BRAND                  631479 non-null  object \n",
            " 26  CAR_MODEL                  631479 non-null  object \n",
            " 27  CAR_PROD_YEAR              631479 non-null  int64  \n",
            " 28  CAR_AGE                    631479 non-null  int64  \n",
            " 29  CAR_CAPACITY               631479 non-null  int64  \n",
            " 30  CAR_INVC_ZONE              631479 non-null  int64  \n",
            " 31  CAR_USAGE                  631479 non-null  int64  \n",
            " 32  ACCEPT_SMS                 631479 non-null  int64  \n",
            " 33  ACCEPT_EMAIL               631479 non-null  int64  \n",
            " 34  BONUS_MALUS                631479 non-null  int64  \n",
            " 35  EIDOS_PER                  629815 non-null  object \n",
            " 36  TROPOS_EXOFL               631076 non-null  object \n",
            " 37  NEW_PREMIUM                631479 non-null  int64  \n",
            " 38  OLD_PREMIUM                631479 non-null  int64  \n",
            " 39  PREMIUM_PRICE              631479 non-null  float64\n",
            " 40  NUM_COVERAGES              631479 non-null  int64  \n",
            " 41  IS_STANDING_ORDER          631479 non-null  int64  \n",
            " 42  AGENT_CATG                 631479 non-null  object \n",
            " 43  TOTAL_YEAR_INSURED_SYMB    631479 non-null  float64\n",
            " 44  CEPAG                      631051 non-null  object \n",
            " 45  TAXK_INC_ZONE_NAME         631479 non-null  object \n",
            " 46  INS_PACKAGE                631479 non-null  int64  \n",
            " 47  CLAIMS_AMOUNT              631479 non-null  float64\n",
            " 48  HAS_RETURNED               631479 non-null  int64  \n",
            " 49  NEW_PREMIUM_PRICE          631479 non-null  float64\n",
            " 50  NUM_COMPLAINTS             631479 non-null  int64  \n",
            " 51  IS_RENEWAL                 631479 non-null  int64  \n",
            " 52  LOSS_RATIO                 631479 non-null  float64\n",
            " 53  ASFAL_AMOUNT               631479 non-null  float64\n",
            " 54  PAID_AMOUNT                631479 non-null  float64\n",
            " 55  PENDING_AMOUNT             631479 non-null  float64\n",
            " 56  DISCOUNT_AMOUNT            631479 non-null  float64\n",
            " 57  POLICY_STATUS              631479 non-null  int64  \n",
            "dtypes: float64(11), int64(30), object(17)\n",
            "memory usage: 279.4+ MB\n",
            "None\n"
          ]
        }
      ]
    },
    {
      "cell_type": "code",
      "source": [
        "print(df.describe())\n",
        "#print(df.select(pl.all().exclude(pl.datatypes.Object)).describe())"
      ],
      "metadata": {
        "id": "zduvfrliHqPV",
        "colab": {
          "base_uri": "https://localhost:8080/"
        },
        "outputId": "3f39861e-e4ad-4dba-cbfc-e549dca62dfc"
      },
      "execution_count": 8,
      "outputs": [
        {
          "output_type": "stream",
          "name": "stdout",
          "text": [
            "               MHNET          SYMB      CUSTOMER         GENDER  \\\n",
            "count  631479.000000  6.314790e+05  6.314790e+05  631146.000000   \n",
            "mean   201992.052255  1.030905e+08  2.859529e+06       1.286179   \n",
            "std        38.296844  5.292759e+05  5.831978e+05       0.454903   \n",
            "min    201901.000000  1.011263e+08  4.374800e+04       1.000000   \n",
            "25%    202006.000000  1.027610e+08  2.536328e+06       1.000000   \n",
            "50%    202010.000000  1.032333e+08  2.996665e+06       1.000000   \n",
            "75%    202010.000000  1.035223e+08  3.313094e+06       2.000000   \n",
            "max    202012.000000  1.037828e+08  3.640400e+06       3.000000   \n",
            "\n",
            "       CUST_ZIP_CODE        TRPLHR  SYMB_DURATION  NUM_ACTIVE_SYMB  \\\n",
            "count  631479.000000  11747.000000  631479.000000    631479.000000   \n",
            "mean    41019.584930     37.137227       6.556199         1.245448   \n",
            "std     23222.677407     14.606907       3.134660         0.680613   \n",
            "min     10000.000000      3.000000       3.000000         1.000000   \n",
            "25%     19003.000000     29.000000       3.000000         1.000000   \n",
            "50%     34400.000000     29.000000       6.000000         1.000000   \n",
            "75%     64002.000000     55.000000       6.000000         1.000000   \n",
            "max     85900.000000     99.000000      12.000000        18.000000   \n",
            "\n",
            "       NUM_ACCIDENTS_INVOLVED  NUM_ACCIDENTS_RESP  ...   HAS_RETURNED  \\\n",
            "count           631479.000000       631479.000000  ...  631479.000000   \n",
            "mean                 0.344795            0.167675  ...       0.341756   \n",
            "std                  0.721455            0.461279  ...       0.474299   \n",
            "min                  0.000000            0.000000  ...       0.000000   \n",
            "25%                  0.000000            0.000000  ...       0.000000   \n",
            "50%                  0.000000            0.000000  ...       0.000000   \n",
            "75%                  0.000000            0.000000  ...       1.000000   \n",
            "max                 15.000000           12.000000  ...       1.000000   \n",
            "\n",
            "       NEW_PREMIUM_PRICE  NUM_COMPLAINTS     IS_RENEWAL    LOSS_RATIO  \\\n",
            "count      631479.000000   631479.000000  631479.000000  6.314790e+05   \n",
            "mean           95.069445        0.000456       0.266519  7.347586e+01   \n",
            "std            63.440861        0.022080       0.442139  2.357672e+03   \n",
            "min          -373.800000        0.000000       0.000000 -3.766920e+03   \n",
            "25%            54.130000        0.000000       0.000000  0.000000e+00   \n",
            "50%            83.070000        0.000000       0.000000  0.000000e+00   \n",
            "75%           114.700000        0.000000       1.000000  0.000000e+00   \n",
            "max          3363.870000        2.000000       1.000000  1.192116e+06   \n",
            "\n",
            "        ASFAL_AMOUNT    PAID_AMOUNT  PENDING_AMOUNT  DISCOUNT_AMOUNT  \\\n",
            "count  631479.000000  631479.000000   631479.000000    631479.000000   \n",
            "mean      483.975993     141.419625      131.215467         7.057087   \n",
            "std       503.273106    1998.701291     3324.086399        14.317578   \n",
            "min      -315.780000    -733.620000        0.000000      -979.580000   \n",
            "25%       150.520000       0.000000        0.000000         0.000000   \n",
            "50%       334.540000       0.000000        0.000000         1.510000   \n",
            "75%       647.470000       0.000000        0.000000         9.540000   \n",
            "max     25025.080000  907878.260000   720000.000000       666.130000   \n",
            "\n",
            "       POLICY_STATUS  \n",
            "count  631479.000000  \n",
            "mean        0.636341  \n",
            "std         0.481052  \n",
            "min         0.000000  \n",
            "25%         0.000000  \n",
            "50%         1.000000  \n",
            "75%         1.000000  \n",
            "max         1.000000  \n",
            "\n",
            "[8 rows x 41 columns]\n"
          ]
        }
      ]
    },
    {
      "cell_type": "markdown",
      "source": [
        "Missing values in each column"
      ],
      "metadata": {
        "id": "jEguCJCQFHrZ"
      }
    },
    {
      "cell_type": "code",
      "source": [
        "print(df.isnull().sum())\n",
        "#print(df.select([pl.sum(pl.col(column).is_null()).alias(column) for column in df.columns]))"
      ],
      "metadata": {
        "id": "Rqx4VuBVEvVf",
        "colab": {
          "base_uri": "https://localhost:8080/"
        },
        "outputId": "fc164d96-d797-48b2-d19f-c06faa909d0c"
      },
      "execution_count": 9,
      "outputs": [
        {
          "output_type": "stream",
          "name": "stdout",
          "text": [
            "MHNET                             0\n",
            "SYMB                              0\n",
            "SYMB_START                        0\n",
            "SYMB_END                          0\n",
            "PAYMENT_END                       0\n",
            "RENEWAL_SYMB                      0\n",
            "CUSTOMER                          0\n",
            "CUST_BIRTH_DATE               99017\n",
            "GENDER                          333\n",
            "CUST_ZIP_CODE                     0\n",
            "AGENT_CD                          0\n",
            "CDIE_AGENT_CD                     0\n",
            "CGD_AGENT_CD                      0\n",
            "CEMP_AGENT_CD                     0\n",
            "CEP3_AGENT_CD                     0\n",
            "TRPLHR                       619732\n",
            "SYMB_DURATION                     0\n",
            "NUM_ACTIVE_SYMB                   0\n",
            "NUM_ACCIDENTS_INVOLVED            0\n",
            "NUM_ACCIDENTS_RESP                0\n",
            "NUM_ACCIDENTS_RESP_FR             0\n",
            "NUM_ACCIDENTS_RESP_NOT_FR         0\n",
            "NUM_ACCIDENTS_NOT_RESP            0\n",
            "LOYALTY_PROGRAM                   0\n",
            "NUM_VEHICLES                      0\n",
            "CAR_BRAND                         0\n",
            "CAR_MODEL                         0\n",
            "CAR_PROD_YEAR                     0\n",
            "CAR_AGE                           0\n",
            "CAR_CAPACITY                      0\n",
            "CAR_INVC_ZONE                     0\n",
            "CAR_USAGE                         0\n",
            "ACCEPT_SMS                        0\n",
            "ACCEPT_EMAIL                      0\n",
            "BONUS_MALUS                       0\n",
            "EIDOS_PER                      1664\n",
            "TROPOS_EXOFL                    403\n",
            "NEW_PREMIUM                       0\n",
            "OLD_PREMIUM                       0\n",
            "PREMIUM_PRICE                     0\n",
            "NUM_COVERAGES                     0\n",
            "IS_STANDING_ORDER                 0\n",
            "AGENT_CATG                        0\n",
            "TOTAL_YEAR_INSURED_SYMB           0\n",
            "CEPAG                           428\n",
            "TAXK_INC_ZONE_NAME                0\n",
            "INS_PACKAGE                       0\n",
            "CLAIMS_AMOUNT                     0\n",
            "HAS_RETURNED                      0\n",
            "NEW_PREMIUM_PRICE                 0\n",
            "NUM_COMPLAINTS                    0\n",
            "IS_RENEWAL                        0\n",
            "LOSS_RATIO                        0\n",
            "ASFAL_AMOUNT                      0\n",
            "PAID_AMOUNT                       0\n",
            "PENDING_AMOUNT                    0\n",
            "DISCOUNT_AMOUNT                   0\n",
            "POLICY_STATUS                     0\n",
            "dtype: int64\n"
          ]
        }
      ]
    },
    {
      "cell_type": "markdown",
      "source": [
        "Number of unique values in each column"
      ],
      "metadata": {
        "id": "zhH1MYURE55N"
      }
    },
    {
      "cell_type": "code",
      "source": [
        "print(df.nunique())\n",
        "#print(df.select([pl.col(column).n_unique().alias(column) for column in df.columns]))"
      ],
      "metadata": {
        "id": "cdRHCCl8FD57",
        "colab": {
          "base_uri": "https://localhost:8080/"
        },
        "outputId": "524f7266-d734-4b6d-a651-3fb16b196206"
      },
      "execution_count": 10,
      "outputs": [
        {
          "output_type": "stream",
          "name": "stdout",
          "text": [
            "MHNET                            24\n",
            "SYMB                         610173\n",
            "SYMB_START                     1112\n",
            "SYMB_END                       1119\n",
            "PAYMENT_END                    1109\n",
            "RENEWAL_SYMB                   1109\n",
            "CUSTOMER                     568924\n",
            "CUST_BIRTH_DATE               36321\n",
            "GENDER                            3\n",
            "CUST_ZIP_CODE                  1176\n",
            "AGENT_CD                       4572\n",
            "CDIE_AGENT_CD                   159\n",
            "CGD_AGENT_CD                     35\n",
            "CEMP_AGENT_CD                     3\n",
            "CEP3_AGENT_CD                    12\n",
            "TRPLHR                           31\n",
            "SYMB_DURATION                     3\n",
            "NUM_ACTIVE_SYMB                  13\n",
            "NUM_ACCIDENTS_INVOLVED           16\n",
            "NUM_ACCIDENTS_RESP               12\n",
            "NUM_ACCIDENTS_RESP_FR             9\n",
            "NUM_ACCIDENTS_RESP_NOT_FR         9\n",
            "NUM_ACCIDENTS_NOT_RESP            7\n",
            "LOYALTY_PROGRAM                   2\n",
            "NUM_VEHICLES                      9\n",
            "CAR_BRAND                      2744\n",
            "CAR_MODEL                      2744\n",
            "CAR_PROD_YEAR                    86\n",
            "CAR_AGE                          87\n",
            "CAR_CAPACITY                    481\n",
            "CAR_INVC_ZONE                    34\n",
            "CAR_USAGE                        31\n",
            "ACCEPT_SMS                        3\n",
            "ACCEPT_EMAIL                      3\n",
            "BONUS_MALUS                      12\n",
            "EIDOS_PER                         2\n",
            "TROPOS_EXOFL                      2\n",
            "NEW_PREMIUM                       2\n",
            "OLD_PREMIUM                       2\n",
            "PREMIUM_PRICE                 31955\n",
            "NUM_COVERAGES                    25\n",
            "IS_STANDING_ORDER                 2\n",
            "AGENT_CATG                       12\n",
            "TOTAL_YEAR_INSURED_SYMB         122\n",
            "CEPAG                           904\n",
            "TAXK_INC_ZONE_NAME                5\n",
            "INS_PACKAGE                     213\n",
            "CLAIMS_AMOUNT                 62763\n",
            "HAS_RETURNED                      2\n",
            "NEW_PREMIUM_PRICE             32503\n",
            "NUM_COMPLAINTS                    3\n",
            "IS_RENEWAL                        2\n",
            "LOSS_RATIO                    47029\n",
            "ASFAL_AMOUNT                 145464\n",
            "PAID_AMOUNT                   54411\n",
            "PENDING_AMOUNT                 4345\n",
            "DISCOUNT_AMOUNT               11335\n",
            "POLICY_STATUS                     2\n",
            "dtype: int64\n"
          ]
        }
      ]
    },
    {
      "cell_type": "code",
      "source": [],
      "metadata": {
        "id": "Xka-k_aUawnn"
      },
      "execution_count": null,
      "outputs": []
    }
  ]
}